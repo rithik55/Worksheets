{
 "cells": [
  {
   "cell_type": "markdown",
   "metadata": {},
   "source": [
    "# Worksheet 08\n",
    "\n",
    "Name: Rithik Bhandary\n",
    "UID: U20434494\n",
    "\n",
    "### Topics\n",
    "\n",
    "- Soft Clustering\n",
    "- Clustering Aggregation\n",
    "\n",
    "### Probability Review\n",
    "\n",
    "Read through [the following](https://medium.com/@gallettilance/overview-of-probability-3272b72c82c8)\n",
    "\n",
    "### Soft Clustering\n",
    "\n",
    "We generate 10 data points that come from a normal distribution with mean 5 and variance 1."
   ]
  },
  {
   "cell_type": "code",
   "execution_count": 6,
   "metadata": {},
   "outputs": [
    {
     "name": "stdout",
     "output_type": "stream",
     "text": [
      "[4.612991565803412, 5.113335843445479, 6.629093795264276, 7.455227458302828, 5.371585704817344, 5.270565629252162, 4.076268932650919, 6.01136205360717, 3.8806463293669067, 5.564542253475504]\n"
     ]
    }
   ],
   "source": [
    "import random\n",
    "import numpy as np\n",
    "from sklearn.cluster import KMeans\n",
    "\n",
    "mean = 5\n",
    "stdev = 1\n",
    "\n",
    "s1 = np.random.normal(mean, stdev, 10).tolist()\n",
    "print(s1)"
   ]
  },
  {
   "cell_type": "markdown",
   "metadata": {},
   "source": [
    "a) Generate 10 more data points, this time coming from a normal distribution with mean 8 and variance 1."
   ]
  },
  {
   "cell_type": "code",
   "execution_count": 2,
   "metadata": {},
   "outputs": [
    {
     "name": "stdout",
     "output_type": "stream",
     "text": [
      "[6.64518036160346, 6.862521068834083, 8.873564845258036, 8.055860895828243, 7.758280305669976, 6.832167748604505, 8.557973701828315, 7.428691013550416, 4.797050424893609, 7.447121855525711]\n"
     ]
    }
   ],
   "source": [
    "s2 = np.random.normal( 8 , 1 , 10 ).tolist()\n",
    "print(s2)"
   ]
  },
  {
   "cell_type": "markdown",
   "metadata": {},
   "source": [
    "b) Flip a fair coin 10 times. If the coin lands on H, then pick the last data point of `c1` and remove it from `c1`, if T then pick the last data point from `c2` and remove it from `c2`. Add these 10 points to a list called `data`."
   ]
  },
  {
   "cell_type": "code",
   "execution_count": 7,
   "metadata": {},
   "outputs": [
    {
     "name": "stdout",
     "output_type": "stream",
     "text": [
      "[5.564542253475504, 3.8806463293669067, 6.64518036160346, 6.01136205360717, 6.862521068834083, 8.873564845258036, 8.055860895828243, 7.758280305669976, 4.076268932650919, 6.832167748604505]\n"
     ]
    }
   ],
   "source": [
    "data = []\n",
    "for i in range(10):\n",
    "    # flip coin\n",
    "    coin_output = random.choice([0, 1])\n",
    "    if coin_output == 0:\n",
    "        p1 = s1.pop()\n",
    "        data.append(p1)\n",
    "    else:\n",
    "        p2 = s2.pop()\n",
    "        data.append(p2)\n",
    "print(data)"
   ]
  },
  {
   "cell_type": "markdown",
   "metadata": {},
   "source": [
    "c) This `data` is a Gaussian Mixture Distribution with 2 mixture components. Over the next few questions we will walk through the GMM algorithm to see if we can uncover the parameters we used to generate this data. First, please list all these parameters of the GMM that created `data` and the values we know they have."
   ]
  },
  {
   "cell_type": "markdown",
   "metadata": {},
   "source": [
    "Mean = 5 or 8, stdev/variance = 1, sample size = 10 (bimodal distribution)"
   ]
  },
  {
   "cell_type": "markdown",
   "metadata": {},
   "source": [
    "d) Let's assume there are two mixture components (note: we could plot the data and make the observation that there are two clusters). The EM algorithm asks us to start with a random `mean_j`, `variance_j`, `P(S_j)` for each component j. One method we could use to find sensible values for these is to apply K means with k=2 here.\n",
    "\n",
    "1. the centroids would be the estimates of the `mean_j`\n",
    "2. the intra-cluster variance could be the estimate of `variance_j`\n",
    "3. the proportion of points in each cluster could be the estimate of `P(S_j)`\n",
    "\n",
    "Go through this process and list the parameter estimates it gives. Are they close or far from the true values?"
   ]
  },
  {
   "cell_type": "code",
   "execution_count": 8,
   "metadata": {},
   "outputs": [
    {
     "name": "stdout",
     "output_type": "stream",
     "text": [
      "[6.64518036160346, 6.862521068834083, 8.873564845258036, 8.055860895828243, 7.758280305669976, 6.832167748604505]\n",
      "[5.564542253475504, 3.8806463293669067, 6.01136205360717, 4.076268932650919]\n",
      "P(S_1) = 0.6,  P(S_2) = 0.4\n",
      "mean_1 = 7.504595870966384,  mean_2 = 4.883204892275125\n",
      "var_1 = 0.640889936938309,  var_2 = 0.8483071238568762\n"
     ]
    },
    {
     "name": "stderr",
     "output_type": "stream",
     "text": [
      "/Users/rithikbhandary/anaconda3/lib/python3.10/site-packages/sklearn/cluster/_kmeans.py:870: FutureWarning: The default value of `n_init` will change from 10 to 'auto' in 1.4. Set the value of `n_init` explicitly to suppress the warning\n",
      "  warnings.warn(\n"
     ]
    }
   ],
   "source": [
    "kmeans = KMeans(2, init='k-means++').fit(X=np.array(data).reshape(-1, 1))\n",
    "\n",
    "s1 = [x[0] for x in filter(lambda x: x[1] == 0, zip(data, kmeans.labels_))]\n",
    "print(s1)\n",
    "s2 = [x[0] for x in filter(lambda x: x[1] == 1, zip(data, kmeans.labels_))]\n",
    "print(s2)\n",
    "\n",
    "prob_s = [ len(s1) / (len(s1) + len(s2)) , len(s2) / (len(s1) + len(s2)) ]\n",
    "mean = [ sum(s1)/len(s1) , sum(s2)/len(s2) ]\n",
    "var = [ sum(map(lambda x : (x - mean[0])**2, s1)) / len(s1) , sum(map(lambda x : (x - mean[1])**2, s2)) / len(s2) ]\n",
    "\n",
    "print(\"P(S_1) = \" + str(prob_s[0]) + \",  P(S_2) = \" + str(prob_s[1]))\n",
    "print(\"mean_1 = \" + str(mean[0]) + \",  mean_2 = \" + str(mean[1]))\n",
    "print(\"var_1 = \" + str(var[0]) + \",  var_2 = \" + str(var[1]))"
   ]
  },
  {
   "cell_type": "markdown",
   "metadata": {},
   "source": [
    "The parameters are close to the true value."
   ]
  },
  {
   "cell_type": "markdown",
   "metadata": {},
   "source": [
    "e) For each data point, compute `P(S_j | X_i)`. Comment on which cluster you think each point belongs to based on the estimated probabilities. How does that compare to the truth?"
   ]
  },
  {
   "cell_type": "code",
   "execution_count": 10,
   "metadata": {},
   "outputs": [
    {
     "name": "stdout",
     "output_type": "stream",
     "text": [
      "point =  5.564542253475504\n",
      "probability of observing that point if it came from cluster 0 =  0.006372379688111274\n",
      "probability of observing that point if it came from cluster 1 =  0.3406262590588083\n",
      "point =  3.8806463293669067\n",
      "probability of observing that point if it came from cluster 0 =  7.096663260338475e-08\n",
      "probability of observing that point if it came from cluster 1 =  0.2339162101101131\n",
      "point =  6.64518036160346\n",
      "probability of observing that point if it came from cluster 0 =  0.2533092902572824\n",
      "probability of observing that point if it came from cluster 1 =  0.05439449703043339\n",
      "point =  6.01136205360717\n",
      "probability of observing that point if it came from cluster 0 =  0.041240003657407986\n",
      "probability of observing that point if it came from cluster 1 =  0.19422600167637546\n",
      "point =  6.862521068834083\n",
      "probability of observing that point if it came from cluster 0 =  0.3768562434969854\n",
      "probability of observing that point if it came from cluster 1 =  0.030916550416619785\n",
      "point =  8.873564845258036\n",
      "probability of observing that point if it came from cluster 0 =  0.06358469118237668\n",
      "probability of observing that point if it came from cluster 1 =  7.372096933350229e-06\n",
      "point =  8.055860895828243\n",
      "probability of observing that point if it came from cluster 0 =  0.4299979829837834\n",
      "probability of observing that point if it came from cluster 1 =  0.00043153140315135906\n",
      "point =  7.758280305669976\n",
      "probability of observing that point if it came from cluster 0 =  0.5755769872059628\n",
      "probability of observing that point if it came from cluster 1 =  0.0015068468512948136\n",
      "point =  4.076268932650919\n",
      "probability of observing that point if it came from cluster 0 =  3.8054309116293773e-07\n",
      "probability of observing that point if it came from cluster 1 =  0.2991392414916043\n",
      "point =  6.832167748604505\n",
      "probability of observing that point if it came from cluster 0 =  0.3589896254074578\n",
      "probability of observing that point if it came from cluster 1 =  0.033586956711999016\n",
      "5.564542253475504\n",
      "Probability of coming from S_1 = 0.02729578425949333\n",
      "Probability of coming from S_2 = 0.9727042157405067\n",
      "\n",
      "3.8806463293669067\n",
      "Probability of coming from S_1 = 4.550770569172513e-07\n",
      "Probability of coming from S_2 = 0.9999995449229432\n",
      "\n",
      "6.64518036160346\n",
      "Probability of coming from S_1 = 0.8747704822309212\n",
      "Probability of coming from S_2 = 0.12522951776907884\n",
      "\n",
      "6.01136205360717\n",
      "Probability of coming from S_1 = 0.24155949078022676\n",
      "Probability of coming from S_2 = 0.7584405092197732\n",
      "\n",
      "6.862521068834083\n",
      "Probability of coming from S_1 = 0.9481440742467058\n",
      "Probability of coming from S_2 = 0.051855925753294244\n",
      "\n",
      "8.873564845258036\n",
      "Probability of coming from S_1 = 0.9999227117196547\n",
      "Probability of coming from S_2 = 7.728828034526258e-05\n",
      "\n",
      "8.055860895828243\n",
      "Probability of coming from S_1 = 0.9993314032472678\n",
      "Probability of coming from S_2 = 0.0006685967527321691\n",
      "\n",
      "7.758280305669976\n",
      "Probability of coming from S_1 = 0.9982577233620467\n",
      "Probability of coming from S_2 = 0.001742276637953401\n",
      "\n",
      "4.076268932650919\n",
      "Probability of coming from S_1 = 1.9081867851145185e-06\n",
      "Probability of coming from S_2 = 0.9999980918132149\n",
      "\n",
      "6.832167748604505\n",
      "Probability of coming from S_1 = 0.9412888723052129\n",
      "Probability of coming from S_2 = 0.058711127694787084\n",
      "\n"
     ]
    }
   ],
   "source": [
    "from scipy.stats import norm\n",
    "\n",
    "prob_s0_x = [] # P(S_0 | X_i)\n",
    "prob_s1_x = [] # P(S_1 | X_i)\n",
    "prob_x = [] # P(X_i)\n",
    "\n",
    "k = 2\n",
    "\n",
    "for p in data:\n",
    "    print(\"point = \", p)\n",
    "    pdf_i = []\n",
    "\n",
    "    for j in range(k):\n",
    "        # P(X_i | S_j)\n",
    "        pdf_i.append(norm.pdf(p, mean[j], var[j]))\n",
    "        print(\"probability of observing that point if it came from cluster \" + str(j) + \" = \", pdf_i[j])\n",
    "        # P(S_j) already computed\n",
    "        prob_s[j]\n",
    "\n",
    "    # P(X_i) = P(S_0)P(X_i | S_0) + P(S_1)P(X_i | S_1)\n",
    "    prob_x = prob_s[0] * pdf_i[0] + prob_s[1] * pdf_i[1]\n",
    "\n",
    "    # P(S_j | X_i) = P(X_i | S_j)P(S_j) / P(X_i)\n",
    "    prob_s0_x.append( pdf_i[0] * prob_s[0] / prob_x )\n",
    "    prob_s1_x.append( pdf_i[1] * prob_s[1] / prob_x )\n",
    "\n",
    "probs = zip(data, prob_s0_x, prob_s1_x)\n",
    "for p in probs:\n",
    "    print(p[0])\n",
    "    print(\"Probability of coming from S_1 = \" + str(p[1]))\n",
    "    print(\"Probability of coming from S_2 = \" + str(p[2]))\n",
    "    print()\n"
   ]
  },
  {
   "cell_type": "markdown",
   "metadata": {},
   "source": [
    "f) Having computed `P(S_j | X_i)`, update the estimates of `mean_j`, `var_j`, and `P(S_j)`. How different are these values from the original ones you got from K means? briefly comment."
   ]
  },
  {
   "cell_type": "code",
   "execution_count": 11,
   "metadata": {},
   "outputs": [
    {
     "name": "stdout",
     "output_type": "stream",
     "text": [
      "P(S_1) = 0.6,  P(S_2) = 0.4\n",
      "mean_1 = 7.465762734949114,  mean_2 = 4.922012134675412\n",
      "var_1 = 0.7191269616210916,  var_2 = 0.9836299293608679\n"
     ]
    }
   ],
   "source": [
    "prob_c = [sum(prob_s0_x)/ len(prob_s0_x), sum(prob_s1_x)/ len(prob_s1_x) ]\n",
    "mean = [sum([x[0] * x[1] for x in zip(prob_s0_x, data)]) / sum(prob_s0_x), sum([x[0] * x[1] for x in zip(prob_s1_x, data)]) / sum(prob_s1_x) ]\n",
    "var =  [ sum([((x - mean[0]) ** 2) * prob_s0_x[i] for i, x in enumerate(data)]) / sum(prob_s0_x) , \n",
    "         sum([((x - mean[1]) ** 2) * prob_s1_x[i] for i, x in enumerate(data)]) / sum(prob_s1_x)]\n",
    "\n",
    "print(\"P(S_1) = \" + str(prob_s[0]) + \",  P(S_2) = \" + str(prob_s[1]))\n",
    "print(\"mean_1 = \" + str(mean[0]) + \",  mean_2 = \" + str(mean[1]))\n",
    "print(\"var_1 = \" + str(var[0]) + \",  var_2 = \" + str(var[1]))"
   ]
  },
  {
   "cell_type": "markdown",
   "metadata": {},
   "source": [
    "These values are still slightly off."
   ]
  },
  {
   "cell_type": "markdown",
   "metadata": {},
   "source": [
    "g) Update `P(S_j | X_i)`. Comment on any differences or lack thereof you observe."
   ]
  },
  {
   "cell_type": "code",
   "execution_count": 13,
   "metadata": {},
   "outputs": [
    {
     "name": "stdout",
     "output_type": "stream",
     "text": [
      "5.564542253475504\n",
      "Probability of coming from C_1 = 0.02729578425949333\n",
      "Probability of coming from C_2 = 0.9727042157405067\n",
      "\n",
      "3.8806463293669067\n",
      "Probability of coming from C_1 = 4.550770569172513e-07\n",
      "Probability of coming from C_2 = 0.9999995449229432\n",
      "\n",
      "6.64518036160346\n",
      "Probability of coming from C_1 = 0.8747704822309212\n",
      "Probability of coming from C_2 = 0.12522951776907884\n",
      "\n",
      "6.01136205360717\n",
      "Probability of coming from C_1 = 0.24155949078022676\n",
      "Probability of coming from C_2 = 0.7584405092197732\n",
      "\n",
      "6.862521068834083\n",
      "Probability of coming from C_1 = 0.9481440742467058\n",
      "Probability of coming from C_2 = 0.051855925753294244\n",
      "\n",
      "8.873564845258036\n",
      "Probability of coming from C_1 = 0.9999227117196547\n",
      "Probability of coming from C_2 = 7.728828034526258e-05\n",
      "\n",
      "8.055860895828243\n",
      "Probability of coming from C_1 = 0.9993314032472678\n",
      "Probability of coming from C_2 = 0.0006685967527321691\n",
      "\n",
      "7.758280305669976\n",
      "Probability of coming from C_1 = 0.9982577233620467\n",
      "Probability of coming from C_2 = 0.001742276637953401\n",
      "\n",
      "4.076268932650919\n",
      "Probability of coming from C_1 = 1.9081867851145185e-06\n",
      "Probability of coming from C_2 = 0.9999980918132149\n",
      "\n",
      "6.832167748604505\n",
      "Probability of coming from C_1 = 0.9412888723052129\n",
      "Probability of coming from C_2 = 0.058711127694787084\n",
      "\n"
     ]
    }
   ],
   "source": [
    "prob_x = prob_s[0] * pdf_i[0] + prob_s[1] * pdf_i[1]\n",
    "prob_s0_x.append(pdf_i[0] * prob_s[0] / prob_x)\n",
    "prob_s1_x.append(pdf_i[1] * prob_s[1] / prob_x)\n",
    "\n",
    "probs = zip(data, prob_s0_x, prob_s1_x)\n",
    "for p in probs:\n",
    "    print(p[0])\n",
    "    print(\"Probability of coming from C_1 = \" + str(p[1]))\n",
    "    print(\"Probability of coming from C_2 = \" + str(p[2]))\n",
    "    print()"
   ]
  },
  {
   "cell_type": "markdown",
   "metadata": {},
   "source": [
    "There seems to be a lot more accurate with many 0.99 probabilities."
   ]
  },
  {
   "cell_type": "markdown",
   "metadata": {},
   "source": [
    "h) Use `P(S_j | X_i)` to create a hard assignment - label each point as belonging to a specific cluster (0 or 1)"
   ]
  },
  {
   "cell_type": "code",
   "execution_count": 14,
   "metadata": {},
   "outputs": [
    {
     "name": "stdout",
     "output_type": "stream",
     "text": [
      "[1, 1, 0, 1, 0, 0, 0, 0, 1, 0]\n"
     ]
    }
   ],
   "source": [
    "assignment = []\n",
    "for i in range(len(data)):\n",
    "    if prob_s0_x[i] > prob_s1_x[i]:\n",
    "        assignment.append(0)\n",
    "    else:\n",
    "        assignment.append(1)\n",
    "print(assignment)"
   ]
  },
  {
   "cell_type": "code",
   "execution_count": null,
   "metadata": {},
   "outputs": [],
   "source": []
  }
 ],
 "metadata": {
  "kernelspec": {
   "display_name": "Python 3 (ipykernel)",
   "language": "python",
   "name": "python3"
  },
  "language_info": {
   "codemirror_mode": {
    "name": "ipython",
    "version": 3
   },
   "file_extension": ".py",
   "mimetype": "text/x-python",
   "name": "python",
   "nbconvert_exporter": "python",
   "pygments_lexer": "ipython3",
   "version": "3.10.9"
  },
  "vscode": {
   "interpreter": {
    "hash": "e7370f93d1d0cde622a1f8e1c04877d8463912d04d973331ad4851f04de6915a"
   }
  }
 },
 "nbformat": 4,
 "nbformat_minor": 2
}
